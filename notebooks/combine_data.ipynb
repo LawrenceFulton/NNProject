{
 "cells": [
  {
   "cell_type": "markdown",
   "metadata": {},
   "source": [
    "# Combine the dataframes\n",
    "1. This notebook imports the four parts of the cleaned dataframe\n",
    "2. The parts are then combined into one and saved as ```../data/clean_data/clean.csv```\n",
    "\n",
    "This data is on the gitignore as it is too large, therefore this must be run locally any time the clean data has been changed "
   ]
  },
  {
   "cell_type": "code",
   "execution_count": 1,
   "metadata": {},
   "outputs": [],
   "source": [
    "import pandas as pd"
   ]
  },
  {
   "cell_type": "code",
   "execution_count": null,
   "metadata": {},
   "outputs": [],
   "source": [
    "path = \"../data/clean_data/\"\n",
    "\n",
    "df1 = pd.read_csv(path + \"df1.csv\", low_memory=False)\n",
    "df2 = pd.read_csv(path + \"df2.csv\", low_memory=False)\n",
    "df3 = pd.read_csv(path + \"df3.csv\", low_memory=False)\n",
    "df4 = pd.read_csv(path + \"df4.csv\", low_memory=False)\n",
    "\n",
    "frames = [df1, df2, df3, df4]\n",
    "\n",
    "df = pd.concat(frames)\n",
    "\n",
    "df.to_csv(\"clean.csv\", index=False)"
   ]
  },
  {
   "cell_type": "code",
   "execution_count": null,
   "metadata": {},
   "outputs": [],
   "source": []
  }
 ],
 "metadata": {
  "kernelspec": {
   "display_name": "Python 3",
   "language": "python",
   "name": "python3"
  },
  "language_info": {
   "codemirror_mode": {
    "name": "ipython",
    "version": 3
   },
   "file_extension": ".py",
   "mimetype": "text/x-python",
   "name": "python",
   "nbconvert_exporter": "python",
   "pygments_lexer": "ipython3",
   "version": "3.7.5"
  }
 },
 "nbformat": 4,
 "nbformat_minor": 4
}
