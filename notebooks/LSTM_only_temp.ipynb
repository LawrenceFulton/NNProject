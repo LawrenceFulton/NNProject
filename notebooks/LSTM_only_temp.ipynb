{
 "cells": [
  {
   "cell_type": "code",
   "execution_count": 1,
   "metadata": {},
   "outputs": [],
   "source": [
    "import pandas as pd\n",
    "import numpy as np\n",
    "import tensorflow"
   ]
  },
  {
   "cell_type": "code",
   "execution_count": 2,
   "metadata": {},
   "outputs": [],
   "source": [
    "from tensorflow import keras"
   ]
  },
  {
   "cell_type": "code",
   "execution_count": 3,
   "metadata": {},
   "outputs": [],
   "source": [
    "from tensorflow.keras.models import Sequential\n",
    "from tensorflow.keras.layers import Dense\n",
    "from tensorflow.keras.layers import LSTM"
   ]
  },
  {
   "cell_type": "code",
   "execution_count": 4,
   "metadata": {},
   "outputs": [],
   "source": [
    "from matplotlib import pyplot"
   ]
  },
  {
   "cell_type": "code",
   "execution_count": 5,
   "metadata": {},
   "outputs": [],
   "source": [
    "from pandas import read_csv\n",
    "from pandas import DataFrame"
   ]
  },
  {
   "cell_type": "code",
   "execution_count": 6,
   "metadata": {},
   "outputs": [
    {
     "name": "stdout",
     "output_type": "stream",
     "text": [
      "Starting file:\n",
      "      YYYYMMDD  DDVEC  FHVEC     FG    FHX   FHXH    FHN   FHNH    FXX   FXXH  \\\n",
      " STN                                                                            \n",
      "260   19010601                                                                  \n",
      "260   19010602                                                                  \n",
      "260   19010603                                                                  \n",
      "260   19010604                                                                  \n",
      "260   19010605                                                                  \n",
      "260   19010606                                                                  \n",
      "260   19010607                                                                  \n",
      "260   19010608                                                                  \n",
      "260   19010609                                                                  \n",
      "260   19010610                                                                  \n",
      "\n",
      "      ...   VVNH    VVX   VVXH     NG    UG     UX    UXH     UN    UNH   EV24  \n",
      " STN  ...                                                                       \n",
      "260   ...                                81                                     \n",
      "260   ...                                78                                     \n",
      "260   ...                                80                                     \n",
      "260   ...                                74                                     \n",
      "260   ...                                69                                     \n",
      "260   ...                                74                                     \n",
      "260   ...                                68                                     \n",
      "260   ...                                76                                     \n",
      "260   ...                                78                                     \n",
      "260   ...                                80                                     \n",
      "\n",
      "[10 rows x 40 columns]\n",
      "Ending file:\n",
      "      YYYYMMDD DDVEC FHVEC    FG   FHX  FHXH   FHN  FHNH   FXX  FXXH  ...  \\\n",
      " STN                                                                  ...   \n",
      "260   20200529    44    29    30    50    17    20     1    90    14  ...   \n",
      "260   20200530    64    32    36    60    16    20     3   110    17  ...   \n",
      "260   20200531    62    45    46    70    10    30     1   120    11  ...   \n",
      "260   20200601    49    27    30    40     9    20     4    80    11  ...   \n",
      "260   20200602   259     7    23    40    16    10     4    80    16  ...   \n",
      "260   20200603   294    29    32    40    10    20     1    90    14  ...   \n",
      "260   20200604   312    34    37    50    14    20    23   110    14  ...   \n",
      "260   20200605   237    28    38    60    12    20     1   160    16  ...   \n",
      "260   20200606   218    57    59    80    11    40     1   160    12  ...   \n",
      "260   20200607   247    36    39    50     1    20    23   110    12  ...   \n",
      "\n",
      "       VVNH    VVX  VVXH     NG    UG    UX   UXH    UN   UNH  EV24  \n",
      " STN                                                                 \n",
      "260       4     81    13      1    58    86     4    27    15    50  \n",
      "260       1     83    20      1    48    77     3    27    13    49  \n",
      "260       2     83    16      5    52    76     3    31    15    50  \n",
      "260      24     83     2      7    51    86    24    28    15    49  \n",
      "260      24     83    18      8    55    87     3    31    13    48  \n",
      "260       2     82    13      8    70    91     3    41    13    41  \n",
      "260      15     80    12      7    80    90    18    63    11    15  \n",
      "260       9     80    18      7    81    95     9    66    18    15  \n",
      "260       7     82    12      6    69    89    24    41    12    30  \n",
      "260       1     81    10      7    78    93     1    58    12    20  \n",
      "\n",
      "[10 rows x 40 columns]\n"
     ]
    },
    {
     "name": "stderr",
     "output_type": "stream",
     "text": [
      "/home/lawrencefulton/.local/lib/python3.6/site-packages/IPython/core/interactiveshell.py:3063: DtypeWarning: Columns (2,3,4,5,6,7,8,13,15,16,18,19,20,21,22,23,25,26,28,30,35,36,37,38,39,40) have mixed types. Specify dtype option on import or set low_memory=False.\n",
      "  interactivity=interactivity, compiler=compiler, result=result)\n"
     ]
    }
   ],
   "source": [
    "import os\n",
    "PATH = \"../data/clean_data\"\n",
    "dataset = pd.read_csv('../data/clean_data/KNMI_20200607.csv', header=0, index_col=0)\n",
    "\n",
    "print(\"Starting file:\")\n",
    "print(dataset[0:10])\n",
    "\n",
    "print(\"Ending file:\")\n",
    "print(dataset[-10:])\n",
    "\n",
    "df_backup = dataset\n"
   ]
  },
  {
   "cell_type": "code",
   "execution_count": 10,
   "metadata": {},
   "outputs": [],
   "source": [
    "def to_sequences(seq_size, obs):\n",
    "    x = []\n",
    "    y = []\n",
    "\n",
    "    for i in range(len(obs)-SEQUENCE_SIZE):\n",
    "        #print(i)\n",
    "        window = obs[i:(i+SEQUENCE_SIZE)]\n",
    "        after_window = obs[i+SEQUENCE_SIZE]\n",
    "        window = [[x] for x in window]\n",
    "        x.append(window)\n",
    "        y.append(after_window)\n",
    "        \n",
    "    return np.array(x),np.array(y)"
   ]
  },
  {
   "cell_type": "code",
   "execution_count": 8,
   "metadata": {
    "scrolled": true
   },
   "outputs": [
    {
     "name": "stdout",
     "output_type": "stream",
     "text": [
      "       YYYYMMDD  DDVEC  FHVEC     FG    FHX   FHXH    FHN   FHNH    FXX  \\\n",
      " STN                                                                      \n",
      "260  1901-06-01                                                           \n",
      "260  1901-06-02                                                           \n",
      "260  1901-06-03                                                           \n",
      "260  1901-06-04                                                           \n",
      "260  1901-06-05                                                           \n",
      "\n",
      "       FXXH  ...   VVNH    VVX   VVXH     NG    UG     UX    UXH     UN  \\\n",
      " STN         ...                                                          \n",
      "260          ...                                81                        \n",
      "260          ...                                78                        \n",
      "260          ...                                80                        \n",
      "260          ...                                74                        \n",
      "260          ...                                69                        \n",
      "\n",
      "        UNH   EV24  \n",
      " STN                \n",
      "260                 \n",
      "260                 \n",
      "260                 \n",
      "260                 \n",
      "260                 \n",
      "\n",
      "[5 rows x 40 columns]\n",
      "       YYYYMMDD DDVEC FHVEC    FG   FHX  FHXH   FHN  FHNH   FXX  FXXH  ...  \\\n",
      " STN                                                                   ...   \n",
      "260  2020-06-03   294    29    32    40    10    20     1    90    14  ...   \n",
      "260  2020-06-04   312    34    37    50    14    20    23   110    14  ...   \n",
      "260  2020-06-05   237    28    38    60    12    20     1   160    16  ...   \n",
      "260  2020-06-06   218    57    59    80    11    40     1   160    12  ...   \n",
      "260  2020-06-07   247    36    39    50     1    20    23   110    12  ...   \n",
      "\n",
      "         NG     UG    UX    UXH    UN   UNH  EV24  Year Month Day  \n",
      " STN                                                               \n",
      "260       8     70    91      3    41    13    41  2020     6   3  \n",
      "260       7     80    90     18    63    11    15  2020     6   4  \n",
      "260       7     81    95      9    66    18    15  2020     6   5  \n",
      "260       6     69    89     24    41    12    30  2020     6   6  \n",
      "260       7     78    93      1    58    12    20  2020     6   7  \n",
      "\n",
      "[5 rows x 43 columns]\n",
      "Training set has 36008 observations.\n",
      "Test set has 7464 observations.\n"
     ]
    }
   ],
   "source": [
    "df = df_backup\n",
    "df['TG'] = df['TG'].astype(float)\n",
    "df['YYYYMMDD'] = pd.to_datetime(df['YYYYMMDD'], \n",
    "                                 format='%Y%m%d')\n",
    "\n",
    "\n",
    "print(df.head())\n",
    "\n",
    "df['Year'] = df['YYYYMMDD'].dt.year\n",
    "df['Month'] = df['YYYYMMDD'].dt.month\n",
    "df['Day'] = df['YYYYMMDD'].dt.day\n",
    "print(df[-5:])\n",
    "\n",
    "\n",
    "df_train = df[df['Year']<2000]\n",
    "df_test = df[df['Year']>=2000]\n",
    "\n",
    "temp_train = df_train['TG'].tolist()\n",
    "temp_test = df_test['TG'].tolist()\n",
    "\n",
    "\n",
    "print(\"Training set has {} observations.\".format(len(temp_train)))\n",
    "print(\"Test set has {} observations.\".format(len(temp_test)))"
   ]
  },
  {
   "cell_type": "code",
   "execution_count": 11,
   "metadata": {},
   "outputs": [
    {
     "name": "stdout",
     "output_type": "stream",
     "text": [
      "Shape of training set: (36003, 5, 1)\n",
      "Shape of test set: (7459, 5, 1)\n"
     ]
    }
   ],
   "source": [
    "\n",
    "SEQUENCE_SIZE = 5\n",
    "train_X, train_Y = to_sequences(SEQUENCE_SIZE,temp_train)\n",
    "test_X, test_Y = to_sequences(SEQUENCE_SIZE,temp_test)\n",
    "\n",
    "\n",
    "\n",
    "print(\"Shape of training set: {}\".format(train_X.shape))\n",
    "print(\"Shape of test set: {}\".format(test_X.shape))"
   ]
  },
  {
   "cell_type": "markdown",
   "metadata": {},
   "source": [
    "6000 days with each 30 variables trying to predict 1 variable times 6000. This Is then used on the test dataset where one has 1438 days * 30 variables again to predict 1 variable, which determins the quility of the LSTM"
   ]
  },
  {
   "cell_type": "code",
   "execution_count": 12,
   "metadata": {
    "scrolled": true
   },
   "outputs": [
    {
     "name": "stdout",
     "output_type": "stream",
     "text": [
      "Train on 36003 samples, validate on 7459 samples\n",
      "Epoch 1/1000\n",
      "36003/36003 - 9s - loss: 1325.6756 - val_loss: 394.2005\n",
      "Epoch 2/1000\n",
      "36003/36003 - 9s - loss: 383.7335 - val_loss: 390.1917\n",
      "Epoch 3/1000\n",
      "36003/36003 - 8s - loss: 380.5100 - val_loss: 417.1048\n",
      "Epoch 4/1000\n",
      "36003/36003 - 10s - loss: 380.2938 - val_loss: 389.3802\n",
      "Epoch 5/1000\n",
      "36003/36003 - 9s - loss: 379.1891 - val_loss: 393.5838\n",
      "Epoch 6/1000\n",
      "36003/36003 - 10s - loss: 378.4645 - val_loss: 393.2237\n",
      "Epoch 7/1000\n",
      "36003/36003 - 9s - loss: 377.9944 - val_loss: 390.7653\n",
      "Epoch 8/1000\n",
      "36003/36003 - 10s - loss: 378.0445 - val_loss: 387.7012\n",
      "Epoch 9/1000\n",
      "36003/36003 - 9s - loss: 376.0240 - val_loss: 389.3588\n",
      "Epoch 10/1000\n",
      "36003/36003 - 10s - loss: 376.5888 - val_loss: 386.1486\n",
      "Epoch 11/1000\n",
      "36003/36003 - 10s - loss: 374.1371 - val_loss: 408.2214\n",
      "Epoch 12/1000\n",
      "36003/36003 - 11s - loss: 375.2147 - val_loss: 386.5227\n",
      "Epoch 13/1000\n",
      "36003/36003 - 7s - loss: 375.9170 - val_loss: 387.1799\n",
      "Epoch 14/1000\n",
      "36003/36003 - 5s - loss: 373.7633 - val_loss: 400.7658\n",
      "Epoch 15/1000\n",
      "Restoring model weights from the end of the best epoch.\n",
      "36003/36003 - 10s - loss: 373.5049 - val_loss: 393.7098\n",
      "Epoch 00015: early stopping\n"
     ]
    },
    {
     "data": {
      "image/png": "[encoded data removed]",
      "text/plain": [
       "<Figure size 1152x576 with 1 Axes>"
      ]
     },
     "metadata": {
      "needs_background": "light"
     },
     "output_type": "display_data"
    }
   ],
   "source": [
    "from tensorflow.keras.callbacks import EarlyStopping\n",
    "\n",
    "# design network\n",
    "model = Sequential()\n",
    "model.add(LSTM(64,dropout=0.0, recurrent_dropout=0.0, input_shape=(None, 1)))\n",
    "model.add(Dense(32))\n",
    "model.add(Dense(1))\n",
    "model.compile(loss='mean_squared_error', optimizer='adam')\n",
    "monitor = EarlyStopping(monitor='val_loss', min_delta=1e-3, patience=5, \n",
    "                        verbose=1, mode='auto', restore_best_weights=True)\n",
    "\n",
    "# fit network\n",
    "history = model.fit(train_X,train_Y,validation_data=(test_X,test_Y),\n",
    "          callbacks=[monitor],verbose=2,epochs=1000)\n",
    "# plot history\n",
    "pyplot.figure(figsize=(16,8))       # Increase the size of the plot\n",
    "pyplot.plot(history.history['loss'], label='train')\n",
    "pyplot.plot(history.history['val_loss'], label='test')\n",
    "pyplot.legend()\n",
    "pyplot.show()"
   ]
  },
  {
   "cell_type": "markdown",
   "metadata": {},
   "source": [
    "Model evaluation"
   ]
  },
  {
   "cell_type": "code",
   "execution_count": 14,
   "metadata": {
    "scrolled": false
   },
   "outputs": [
    {
     "name": "stdout",
     "output_type": "stream",
     "text": [
      "Score (RMSE): 19.650663139200468\n"
     ]
    }
   ],
   "source": [
    "from sklearn import metrics\n",
    "\n",
    "pred = model.predict(test_X)\n",
    "score = np.sqrt(metrics.mean_squared_error(pred,test_Y))\n",
    "print(\"Score (RMSE): {}\".format(score))"
   ]
  }
 ],
 "metadata": {
  "kernelspec": {
   "display_name": "Python 3",
   "language": "python",
   "name": "python3"
  },
  "language_info": {
   "codemirror_mode": {
    "name": "ipython",
    "version": 3
   },
   "file_extension": ".py",
   "mimetype": "text/x-python",
   "name": "python",
   "nbconvert_exporter": "python",
   "pygments_lexer": "ipython3",
   "version": "3.6.9"
  }
 },
 "nbformat": 4,
 "nbformat_minor": 4
}
